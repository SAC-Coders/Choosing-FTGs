{
 "cells": [
  {
   "cell_type": "markdown",
   "id": "e142b378",
   "metadata": {},
   "source": [
    "# This is a little Python Script made to choose FTG winners\n",
    "By: Ishan Gore"
   ]
  },
  {
   "cell_type": "markdown",
   "id": "7a5e82ae",
   "metadata": {},
   "source": [
    "Main thing that this script assumes is that it is being imported a csv file that has at least 2 columns, where 1 column is named 'Person', and the other column is '# of FTGs'\n",
    "\n",
    "csv can contain other columns, but they shall be ignored"
   ]
  },
  {
   "cell_type": "markdown",
   "id": "1634ab6c",
   "metadata": {},
   "source": [
    "'Person' column contains the name of the FTG buyer\n",
    "'# of FTGs' column contains an integer, which is the number of FTGs that the person bought"
   ]
  },
  {
   "cell_type": "code",
   "execution_count": 1,
   "id": "44c205c9",
   "metadata": {},
   "outputs": [],
   "source": [
    "# import required module\n",
    "import pandas as pd\n",
    "import random"
   ]
  },
  {
   "cell_type": "code",
   "execution_count": 2,
   "id": "6394ef12",
   "metadata": {},
   "outputs": [],
   "source": [
    "# read in data\n",
    "applicants = pd.read_csv('FTG Applicants - Sheet1.csv')"
   ]
  },
  {
   "cell_type": "code",
   "execution_count": 3,
   "id": "93495537",
   "metadata": {},
   "outputs": [],
   "source": [
    "# Only look at row is there is a Name filled in\n",
    "applicants = applicants[~applicants['Person'].isna()]"
   ]
  },
  {
   "cell_type": "code",
   "execution_count": 4,
   "id": "b8f471e6",
   "metadata": {},
   "outputs": [
    {
     "data": {
      "text/html": [
       "<div>\n",
       "<style scoped>\n",
       "    .dataframe tbody tr th:only-of-type {\n",
       "        vertical-align: middle;\n",
       "    }\n",
       "\n",
       "    .dataframe tbody tr th {\n",
       "        vertical-align: top;\n",
       "    }\n",
       "\n",
       "    .dataframe thead th {\n",
       "        text-align: right;\n",
       "    }\n",
       "</style>\n",
       "<table border=\"1\" class=\"dataframe\">\n",
       "  <thead>\n",
       "    <tr style=\"text-align: right;\">\n",
       "      <th></th>\n",
       "      <th>Person</th>\n",
       "      <th># of FTGs</th>\n",
       "      <th>Address</th>\n",
       "      <th>Phone</th>\n",
       "      <th>Email</th>\n",
       "      <th>Can we contact?</th>\n",
       "    </tr>\n",
       "  </thead>\n",
       "  <tbody>\n",
       "    <tr>\n",
       "      <th>0</th>\n",
       "      <td>Bruce Kormanec</td>\n",
       "      <td>2.0</td>\n",
       "      <td>NaN</td>\n",
       "      <td>2163178802</td>\n",
       "      <td>BKUSA66@gmail.com</td>\n",
       "      <td>False</td>\n",
       "    </tr>\n",
       "    <tr>\n",
       "      <th>1</th>\n",
       "      <td>Rex Moskovitz</td>\n",
       "      <td>1.0</td>\n",
       "      <td>266 Scamore Woods Ln, Columbus, OH 43230</td>\n",
       "      <td>4144392889</td>\n",
       "      <td>debra.8.marcus@gmail.com</td>\n",
       "      <td>False</td>\n",
       "    </tr>\n",
       "    <tr>\n",
       "      <th>2</th>\n",
       "      <td>Brian Miller</td>\n",
       "      <td>2.0</td>\n",
       "      <td>1435 White Barn Trail, Xenia, OH 45385</td>\n",
       "      <td>9379744779</td>\n",
       "      <td>bmgd0003@yahoo.com</td>\n",
       "      <td>False</td>\n",
       "    </tr>\n",
       "    <tr>\n",
       "      <th>3</th>\n",
       "      <td>Steve Fiorino</td>\n",
       "      <td>2.0</td>\n",
       "      <td>3425 Arlington Pl, Beavercreek, OH 45434</td>\n",
       "      <td>9372450967</td>\n",
       "      <td>stfiorino@aol.com</td>\n",
       "      <td>True</td>\n",
       "    </tr>\n",
       "    <tr>\n",
       "      <th>4</th>\n",
       "      <td>Carolyn Schubert</td>\n",
       "      <td>1.0</td>\n",
       "      <td>5395 Pondview Dr, Westerville, OH 43081</td>\n",
       "      <td>3304184141</td>\n",
       "      <td>schubert.35@osu.edu</td>\n",
       "      <td>True</td>\n",
       "    </tr>\n",
       "    <tr>\n",
       "      <th>...</th>\n",
       "      <td>...</td>\n",
       "      <td>...</td>\n",
       "      <td>...</td>\n",
       "      <td>...</td>\n",
       "      <td>...</td>\n",
       "      <td>...</td>\n",
       "    </tr>\n",
       "    <tr>\n",
       "      <th>239</th>\n",
       "      <td>Brigitte Boyd</td>\n",
       "      <td>2.0</td>\n",
       "      <td>2052 Jennifer St Akron, OH 44313</td>\n",
       "      <td>9376237172</td>\n",
       "      <td>brigitteboyd62@gmail.com</td>\n",
       "      <td>True</td>\n",
       "    </tr>\n",
       "    <tr>\n",
       "      <th>240</th>\n",
       "      <td>Steve Norman</td>\n",
       "      <td>1.0</td>\n",
       "      <td>5164 S Arlington Rd North Canton, OH 44720</td>\n",
       "      <td>3302896634</td>\n",
       "      <td>stevenorman144@gmail.com</td>\n",
       "      <td>True</td>\n",
       "    </tr>\n",
       "    <tr>\n",
       "      <th>241</th>\n",
       "      <td>Becky Heimbaugh</td>\n",
       "      <td>1.0</td>\n",
       "      <td>175 N Highland Ave Alum, OH 44303</td>\n",
       "      <td>3302839068</td>\n",
       "      <td>beckyheimbaugh@neo.rr.com</td>\n",
       "      <td>True</td>\n",
       "    </tr>\n",
       "    <tr>\n",
       "      <th>242</th>\n",
       "      <td>Bob Gainer</td>\n",
       "      <td>1.0</td>\n",
       "      <td>3120 Helston Ave Akron, OH 44312</td>\n",
       "      <td>3307152548</td>\n",
       "      <td>bobgainer@gmail.com</td>\n",
       "      <td>False</td>\n",
       "    </tr>\n",
       "    <tr>\n",
       "      <th>243</th>\n",
       "      <td>James T McNicholas</td>\n",
       "      <td>1.0</td>\n",
       "      <td>2528 16th St Cuyahoga Falls, OH 44223</td>\n",
       "      <td>3307013828</td>\n",
       "      <td>tactech311@sbcglobal.net</td>\n",
       "      <td>True</td>\n",
       "    </tr>\n",
       "  </tbody>\n",
       "</table>\n",
       "<p>244 rows × 6 columns</p>\n",
       "</div>"
      ],
      "text/plain": [
       "                 Person  # of FTGs  \\\n",
       "0        Bruce Kormanec        2.0   \n",
       "1         Rex Moskovitz        1.0   \n",
       "2          Brian Miller        2.0   \n",
       "3         Steve Fiorino        2.0   \n",
       "4      Carolyn Schubert        1.0   \n",
       "..                  ...        ...   \n",
       "239       Brigitte Boyd        2.0   \n",
       "240        Steve Norman        1.0   \n",
       "241     Becky Heimbaugh        1.0   \n",
       "242          Bob Gainer        1.0   \n",
       "243  James T McNicholas        1.0   \n",
       "\n",
       "                                        Address       Phone  \\\n",
       "0                                           NaN  2163178802   \n",
       "1      266 Scamore Woods Ln, Columbus, OH 43230  4144392889   \n",
       "2        1435 White Barn Trail, Xenia, OH 45385  9379744779   \n",
       "3      3425 Arlington Pl, Beavercreek, OH 45434  9372450967   \n",
       "4       5395 Pondview Dr, Westerville, OH 43081  3304184141   \n",
       "..                                          ...         ...   \n",
       "239            2052 Jennifer St Akron, OH 44313  9376237172   \n",
       "240  5164 S Arlington Rd North Canton, OH 44720  3302896634   \n",
       "241           175 N Highland Ave Alum, OH 44303  3302839068   \n",
       "242            3120 Helston Ave Akron, OH 44312  3307152548   \n",
       "243       2528 16th St Cuyahoga Falls, OH 44223  3307013828   \n",
       "\n",
       "                         Email  Can we contact?  \n",
       "0            BKUSA66@gmail.com            False  \n",
       "1     debra.8.marcus@gmail.com            False  \n",
       "2           bmgd0003@yahoo.com            False  \n",
       "3            stfiorino@aol.com             True  \n",
       "4          schubert.35@osu.edu             True  \n",
       "..                         ...              ...  \n",
       "239   brigitteboyd62@gmail.com             True  \n",
       "240   stevenorman144@gmail.com             True  \n",
       "241  beckyheimbaugh@neo.rr.com             True  \n",
       "242        bobgainer@gmail.com            False  \n",
       "243   tactech311@sbcglobal.net             True  \n",
       "\n",
       "[244 rows x 6 columns]"
      ]
     },
     "execution_count": 4,
     "metadata": {},
     "output_type": "execute_result"
    }
   ],
   "source": [
    "# Look at dataframe to make sure it's correct - mainly check number of rows, etc\n",
    "applicants"
   ]
  },
  {
   "cell_type": "code",
   "execution_count": 5,
   "id": "e635b0bc",
   "metadata": {},
   "outputs": [],
   "source": [
    "# repeat row for however many FTGs person bought\n",
    "finalDf = applicants.loc[applicants.index.repeat(applicants['# of FTGs'])].reset_index(drop=True)"
   ]
  },
  {
   "cell_type": "code",
   "execution_count": 6,
   "id": "ba426409",
   "metadata": {},
   "outputs": [],
   "source": [
    "# set seed to get same result each time - August randomly chose random_state = 5890263\n",
    "finalDf = finalDf.sample(frac = 1, replace = False, random_state = 5890263).reset_index(drop=True)"
   ]
  },
  {
   "cell_type": "code",
   "execution_count": 7,
   "id": "9a398a48",
   "metadata": {},
   "outputs": [],
   "source": [
    "# pick winner by randomly choosing integer and that index is the winner - again for this set seed\n",
    "# seed was randomly chosen by Anna B. to be 34\n",
    "random.seed(34)\n",
    "winnerIndex = random.randint(0, finalDf.shape[0])"
   ]
  },
  {
   "cell_type": "code",
   "execution_count": 9,
   "id": "a56c95d6",
   "metadata": {},
   "outputs": [
    {
     "data": {
      "text/html": [
       "<div>\n",
       "<style scoped>\n",
       "    .dataframe tbody tr th:only-of-type {\n",
       "        vertical-align: middle;\n",
       "    }\n",
       "\n",
       "    .dataframe tbody tr th {\n",
       "        vertical-align: top;\n",
       "    }\n",
       "\n",
       "    .dataframe thead th {\n",
       "        text-align: right;\n",
       "    }\n",
       "</style>\n",
       "<table border=\"1\" class=\"dataframe\">\n",
       "  <thead>\n",
       "    <tr style=\"text-align: right;\">\n",
       "      <th></th>\n",
       "      <th>Person</th>\n",
       "      <th># of FTGs</th>\n",
       "      <th>Address</th>\n",
       "      <th>Phone</th>\n",
       "      <th>Email</th>\n",
       "      <th>Can we contact?</th>\n",
       "    </tr>\n",
       "  </thead>\n",
       "  <tbody>\n",
       "    <tr>\n",
       "      <th>485</th>\n",
       "      <td>Camryn Welsh</td>\n",
       "      <td>1.0</td>\n",
       "      <td>NaN</td>\n",
       "      <td>NaN</td>\n",
       "      <td>camrynwelsh@gmail.com</td>\n",
       "      <td>False</td>\n",
       "    </tr>\n",
       "  </tbody>\n",
       "</table>\n",
       "</div>"
      ],
      "text/plain": [
       "           Person  # of FTGs Address Phone                  Email  \\\n",
       "485  Camryn Welsh        1.0     NaN   NaN  camrynwelsh@gmail.com   \n",
       "\n",
       "     Can we contact?  \n",
       "485            False  "
      ]
     },
     "execution_count": 9,
     "metadata": {},
     "output_type": "execute_result"
    }
   ],
   "source": [
    "# pick winner by randomly choosing integer and that index is the winner - again for this set seed\n",
    "# seed was randomly chosen by my roomate Ben to be 12\n",
    "random.seed(12)\n",
    "winnerIndex = random.randint(0, finalDf.shape[0])\n",
    "finalDf.iloc[[winnerIndex]]"
   ]
  },
  {
   "cell_type": "code",
   "execution_count": null,
   "id": "8ba23bb4",
   "metadata": {},
   "outputs": [],
   "source": []
  }
 ],
 "metadata": {
  "kernelspec": {
   "display_name": "Python 3 (ipykernel)",
   "language": "python",
   "name": "python3"
  },
  "language_info": {
   "codemirror_mode": {
    "name": "ipython",
    "version": 3
   },
   "file_extension": ".py",
   "mimetype": "text/x-python",
   "name": "python",
   "nbconvert_exporter": "python",
   "pygments_lexer": "ipython3",
   "version": "3.9.7"
  }
 },
 "nbformat": 4,
 "nbformat_minor": 5
}
